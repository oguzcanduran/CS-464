{
  "cells": [
    {
      "cell_type": "markdown",
      "metadata": {
        "id": "YmlJ7FFJGA3k"
      },
      "source": [
        "**<h1><center>CS 464</center></h1>**\n",
        "**<h1><center>Introduction to Machine Learning</center></h1>**\n",
        "**<h1><center>Spring 2023</center></h1>**\n",
        "**<h1><center>Homework 3</center></h1>**\n",
        "<h4><center>Due: June 08, 2023 23:59 (GMT+3)</center></h4>"
      ]
    },
    {
      "cell_type": "markdown",
      "metadata": {
        "id": "kUQigqxM4JlE"
      },
      "source": [
        "## **MNIST RGB Inpainting**"
      ]
    },
    {
      "cell_type": "markdown",
      "source": [
        "### **Homework Description**"
      ],
      "metadata": {
        "id": "4JLXD3sTR8Yv"
      }
    },
    {
      "cell_type": "markdown",
      "source": [
        "In this assignment, you are asked to design and train two different neural network models for image the inpainting task. In short, inpainting is a process of filling in the missing parts of an image. You will be applying this task on the MNIST RGB dataset, which is created for this homework by processing a subset of the original [MNIST](http://yann.lecun.com/exdb/mnist/) images. It contains RGB digit images from 0 to 1 colored in black, red, blue, or green. You can see a subset of the dataset below. The download link of the dataset is provided in the following parts.\n",
        "\n",
        "![MNIST RGB Samples](https://drive.google.com/uc?export=view&id=1uy0VENXeb6If-i3uxgDVtnk4qDj7eq_3)\n",
        "\n",
        "**Using PyTorch is mandatory** for this assignment. You are requested to **submit only a single *.ipynb file** in your submissions (no report needed). If you want to provide further explanations about your work, you can add Markdown cells for this purpose. From [this link](https://www.markdownguide.org/), you can get familiar with the Markdown syntax if you need. Upload your homework with the following filename convention: **\\<BilkentID\\>\\_\\<Name\\>\\_\\<Surname\\>.ipynb**\n",
        "\n",
        "Note that this assignment needs a CUDA-enabled GPU to be able to train the models in a reasonable time. If you do not have one, it is suggested to use the [Colab](https://colab.research.google.com/) environment.\n",
        "\n",
        "**Contact:** [Ahmet Burak Yıldırım](mailto:a.yildirim@bilkent.edu.tr)"
      ],
      "metadata": {
        "id": "EFNaqLRzD75v"
      }
    },
    {
      "cell_type": "markdown",
      "source": [
        "### **Importing the Libraries**"
      ],
      "metadata": {
        "id": "rMvuukCeSkRE"
      }
    },
    {
      "cell_type": "markdown",
      "source": [
        "In the cell below,  some utilities that you can make use of in this assignment are imported. You can edit these imports considering your implementation as long as you use PyTorch."
      ],
      "metadata": {
        "id": "bcipuzDyJyMT"
      }
    },
    {
      "cell_type": "code",
      "source": [
        "import torch\n",
        "from torch import nn, optim\n",
        "from torch.utils.data import DataLoader, Dataset\n",
        "import torchvision\n",
        "from torchvision import transforms\n",
        "from PIL import Image\n",
        "from tqdm import tqdm\n",
        "import matplotlib.pyplot as plt\n",
        "import seaborn as sns\n",
        "import numpy as np\n",
        "import random\n",
        "import os"
      ],
      "metadata": {
        "id": "7v0OO4-6SmNV"
      },
      "execution_count": 1,
      "outputs": []
    },
    {
      "cell_type": "markdown",
      "source": [
        "### **Environment Check**"
      ],
      "metadata": {
        "id": "vLoc5OoAKDtr"
      }
    },
    {
      "cell_type": "markdown",
      "source": [
        "In the cell below, you can test whether hardware acceleration with GPU is enabled in your machine or not. If it is enabled, the printed device should be 'cuda'. \n",
        "\n",
        "**Do not change the cell**."
      ],
      "metadata": {
        "id": "KfGyOffcKG7u"
      }
    },
    {
      "cell_type": "code",
      "source": [
        "device = torch.device('cuda' if torch.cuda.is_available() else 'cpu')\n",
        "print('Current device:', device)\n",
        "\n",
        "if device.type == 'cuda':\n",
        "    print('GPU Name:', torch.cuda.get_device_name(0))\n",
        "    print('Total GPU Memory:', round(torch.cuda.get_device_properties(0).total_memory/1024**3,1), 'GB')"
      ],
      "metadata": {
        "id": "KaTYscuOLbjc",
        "colab": {
          "base_uri": "https://localhost:8080/"
        },
        "outputId": "ce6861c2-5234-402b-ceb4-b3b1e83751be"
      },
      "execution_count": 2,
      "outputs": [
        {
          "output_type": "stream",
          "name": "stdout",
          "text": [
            "Current device: cuda\n",
            "GPU Name: Tesla T4\n",
            "Total GPU Memory: 14.7 GB\n"
          ]
        }
      ]
    },
    {
      "cell_type": "markdown",
      "source": [
        "### **Setting Library Seeds for Reproducibility**"
      ],
      "metadata": {
        "id": "BBK2IftRSvHf"
      }
    },
    {
      "cell_type": "markdown",
      "source": [
        "To make a fair evaluation, the seed values are set for random sampling methods in PyTorch, NumPy, and Python random library. \n",
        "\n",
        "**Do not change the cell**"
      ],
      "metadata": {
        "id": "cOZICZTbMc2-"
      }
    },
    {
      "cell_type": "code",
      "source": [
        "def seed_everything(seed):\n",
        "    random.seed(seed)\n",
        "    np.random.seed(seed)\n",
        "    torch.manual_seed(seed)\n",
        "    torch.cuda.manual_seed(seed)\n",
        "    torch.backends.cudnn.deterministic = True"
      ],
      "metadata": {
        "id": "3M5lcMwQStjy"
      },
      "execution_count": 3,
      "outputs": []
    },
    {
      "cell_type": "code",
      "source": [
        "seed_everything(464)"
      ],
      "metadata": {
        "id": "DJ1GUeFfSzN_"
      },
      "execution_count": 4,
      "outputs": []
    },
    {
      "cell_type": "markdown",
      "source": [
        "### **Preparing the Dataset**"
      ],
      "metadata": {
        "id": "h60dtOt5R_aE"
      }
    },
    {
      "cell_type": "markdown",
      "source": [
        "The MNIST RGB dataset is downloadable from [this link](https://drive.google.com/file/d/1xl5Ie_1c3dIg-Y0uXsgbCYEEmDfQxadZ/view?usp=share_link). If you are using Colab or a Linux machine, you can uncomment and run the below cell to download and extract the dataset automatically."
      ],
      "metadata": {
        "id": "Dzcz2jwcNKfK"
      }
    },
    {
      "cell_type": "code",
      "source": [
        "import gdown # Library to download files from Google Drive\n",
        "!gdown 1xl5Ie_1c3dIg-Y0uXsgbCYEEmDfQxadZ # Google Drive ID of the zip file to be downloaded\n",
        "!unzip -oq mnist_dataset_rgb # Unzip the file downloaded. Options -o and -q overwrites the files if exists already and disables printing out the extracted files, respectively."
      ],
      "metadata": {
        "id": "85HQtprVSD3p",
        "colab": {
          "base_uri": "https://localhost:8080/"
        },
        "outputId": "0b6c566b-e4e6-43fd-ac37-a6cf780b1d58"
      },
      "execution_count": 5,
      "outputs": [
        {
          "output_type": "stream",
          "name": "stdout",
          "text": [
            "Downloading...\n",
            "From: https://drive.google.com/uc?id=1xl5Ie_1c3dIg-Y0uXsgbCYEEmDfQxadZ\n",
            "To: /content/mnist_dataset_rgb.zip\n",
            "100% 63.4M/63.4M [00:00<00:00, 152MB/s]\n"
          ]
        }
      ]
    },
    {
      "cell_type": "markdown",
      "source": [
        "### **Implementing a Custom Dataset [20 Points]**"
      ],
      "metadata": {
        "id": "ZhEiiIYxTBi9"
      }
    },
    {
      "cell_type": "markdown",
      "source": [
        "In this part, you are requested to implement a custom PyTorch dataset class that reads MNIST RGB images from a dataset split folder. There are two split folders called training and test in the dataset. The model class should take the root directory of a split in the \\_\\_init\\_\\_ function and read the images accordingly. Before returning the requested images, you should apply the following steps:\n",
        "\n",
        "* Apply bicubic interpolation using PIL to resize the images from (28,28) to (32,32) resolution.\n",
        "* Convert images to Tensor object\n",
        "* Normalize tensor values to scale them in the range of (-1,1)\n",
        "\n",
        "Note that reading images in the \\_\\_getitem\\_\\_ function makes the training process slow for this dataset because reading such small-sized images as a batch is slower than the forward pass process of a simple neural network. Therefore, it is suggested to read and store the images in an array in the \\_\\_init\\_\\_ function and return them in the \\_\\_getitem\\_\\_ function when they are requested by the DataLoader object."
      ],
      "metadata": {
        "id": "zGpUjWbWOBpJ"
      }
    },
    {
      "cell_type": "code",
      "source": [
        "class MnistDataset(Dataset):\n",
        "    def __init__(self, root_dir):\n",
        "        self.root_dir=root_dir\n",
        "        non_sort_cls= os.listdir(root_dir)\n",
        "        non_sort_cls.sort()\n",
        "        self.classes=non_sort_cls\n",
        "        data=[]\n",
        "        cls=[]\n",
        "        for i in self.classes:\n",
        "          cls_i=os.listdir(self.root_dir + \"/\" + i)\n",
        "          data=[*data,*cls_i]\n",
        "          cls_list= [i]*len(cls_i)\n",
        "          cls=[*cls, *cls_list]\n",
        "\n",
        "        self.length=len(data)\n",
        "        self.data=data\n",
        "        self.cls=cls\n",
        "\n",
        "    def __len__(self):\n",
        "\n",
        "        return self.length\n",
        "\n",
        "    def __getitem__(self, data_id):\n",
        "        cls_name=self.cls[data_id]\n",
        "        img_name=self.data[data_id]\n",
        "\n",
        "        img_dir=self.root_dir + \"/\" + cls_name + \"/\" + img_name\n",
        "        img=Image.open(img_dir).resize((32,32), Image.BICUBIC)\n",
        "        tensor_img= transforms.Compose([transforms.ToTensor()])(img)\n",
        "        img_scaled=tensor_img*2-1\n",
        "\n",
        "        return img_scaled "
      ],
      "metadata": {
        "id": "ongUJiujS_UE"
      },
      "execution_count": 6,
      "outputs": []
    },
    {
      "cell_type": "markdown",
      "source": [
        "Create a dataset and a data loader object for training and test splits. Set batch sizes to 64 and 512 for training and test data loaders, respectively. Enable shuffling in the training data loader and disable it in the test data loader."
      ],
      "metadata": {
        "id": "sqaS0ePeWzd3"
      }
    },
    {
      "cell_type": "code",
      "source": [
        "train_dataset = MnistDataset(\"/content/mnist_dataset_rgb/training\")\n",
        "train_dataloader = DataLoader(train_dataset, batch_size=64, shuffle=True)\n",
        "\n",
        "test_dataset = MnistDataset(\"/content/mnist_dataset_rgb/test\")\n",
        "test_dataloader = DataLoader(test_dataset, batch_size=512, shuffle=False)"
      ],
      "metadata": {
        "id": "g-RUAYGdTuVn"
      },
      "execution_count": 7,
      "outputs": []
    },
    {
      "cell_type": "markdown",
      "source": [
        "**Do not change** the below code. If your implementation is correct, you should be seeing a grid of MNIST RGB images properly."
      ],
      "metadata": {
        "id": "XqYREQNbpQeR"
      }
    },
    {
      "cell_type": "code",
      "source": [
        "## Uncomment the cell when the dataloader is ready\n",
        "\n",
        "images = next(iter(train_dataloader))\n",
        "images = (images + 1) / 2\n",
        "grid_img = torchvision.utils.make_grid(images[:20], nrow=10)\n",
        "plt.axis('off')\n",
        "plt.imshow(grid_img.permute(1, 2, 0))\n",
        "plt.show()"
      ],
      "metadata": {
        "id": "ZnVU_VccT-Yi",
        "colab": {
          "base_uri": "https://localhost:8080/",
          "height": 138
        },
        "outputId": "55cec83f-5c6a-40d7-cba0-2415af519d27"
      },
      "execution_count": 8,
      "outputs": [
        {
          "output_type": "display_data",
          "data": {
            "text/plain": [
              "<Figure size 640x480 with 1 Axes>"
            ],
            "image/png": "[encoded data removed]"
          },
          "metadata": {}
        }
      ]
    },
    {
      "cell_type": "markdown",
      "metadata": {
        "id": "Qx_XrpE44TlW"
      },
      "source": [
        "### **Constructing Autoencoder Networks [30 Points]**"
      ]
    },
    {
      "cell_type": "markdown",
      "source": [
        "Autoencoder networks learn how to compress and reconstruct input data. It consists of two subnetworks called the encoder and the decoder. The encoder network compresses the input data, and the decoder network regenerates the data from its compressed version. In this part of the homework, you are requested to implement two different autoencoder networks, which are fully connected and convolutional autoencoders."
      ],
      "metadata": {
        "id": "EC8HgZSPmUhS"
      }
    },
    {
      "cell_type": "markdown",
      "source": [
        "#### **Fully Connected Autoencoder [15 Points]**"
      ],
      "metadata": {
        "id": "7RAJ5jSVWQp2"
      }
    },
    {
      "cell_type": "markdown",
      "source": [
        "Fully connected networks consist of multiple [linear layers](https://pytorch.org/docs/stable/generated/torch.nn.Linear.html). The figure of the architecture is provided below, where the number of nodes is kept small for simplification. \n",
        "\n",
        "![Fully Connected Autoencoder Architecture](https://drive.google.com/uc?export=view&id=1JeDQtjvWVoT5dZhVxesQp_XiqAnUvi1i)\n",
        "\n",
        "In this part, you are requested to implement the layers and the forward function of the model. You should flatten the input image before feeding it to the network and unflatten it when the final activations are obtained. The (input_size, output_size) pairs of the layers should be defined as follows:\n",
        "\n",
        "**Encoder:**\n",
        "- (3\\*32\\*32, 256)\n",
        "- (256, 64)\n",
        "- (64, 16)\n",
        "\n",
        "**Decoder:**\n",
        "- (16, 64)\n",
        "- (64, 256)\n",
        "- (256, 3\\*32\\*32)\n",
        "\n",
        "In each layer, [1D batch normalization](https://pytorch.org/docs/stable/generated/torch.nn.BatchNorm1d.html) should be applied and the resulting values should be passed through a LeakyReLU layer with slope 0.2, which is the activation function. Since the image pixel value range is set to [-1,1] in the dataset, the outputs should be bounded so. Therefore, you should be using a Tanh activation function in the last layer instead of the normalization and LeakyReLU layers."
      ],
      "metadata": {
        "id": "RWwNWG7_erQL"
      }
    },
    {
      "cell_type": "code",
      "source": [
        "class MnistAutoencoderFC(nn.Module):\n",
        "    def __init__(self):\n",
        "        super().__init__()\n",
        "\n",
        "        self.encode=nn.Sequential(\n",
        "            nn.Linear(3*32*32, 256),\n",
        "            nn.BatchNorm1d(256),\n",
        "            nn.LeakyReLU(negative_slope=0.02),\n",
        "\n",
        "            nn.Linear(256, 64),\n",
        "            nn.BatchNorm1d(64),\n",
        "            nn.LeakyReLU(negative_slope=0.02),\n",
        "\n",
        "            nn.Linear(64, 16),\n",
        "            nn.BatchNorm1d(16),\n",
        "            nn.LeakyReLU(negative_slope=0.02))\n",
        "        \n",
        "\n",
        "        self.decode=nn.Sequential(\n",
        "            nn.Linear(16, 64),\n",
        "            nn.BatchNorm1d(64),\n",
        "            nn.LeakyReLU(negative_slope=0.02),\n",
        "\n",
        "            nn.Linear(64, 256),\n",
        "            nn.BatchNorm1d(256),\n",
        "            nn.LeakyReLU(negative_slope=0.02),\n",
        "\n",
        "            nn.Linear(256, 3*32*32),\n",
        "            nn.Tanh())\n",
        "       \n",
        "\n",
        "    def forward(self, x):\n",
        "      x=x.reshape(-1,32*32*3)\n",
        "      enc = self.encode(x)\n",
        "      dec = self.decode(enc)\n",
        "      dec=dec.reshape(-1,3,32,32)\n",
        "      return dec"
      ],
      "metadata": {
        "id": "1s8WfhKnd0Lq"
      },
      "execution_count": 9,
      "outputs": []
    },
    {
      "cell_type": "markdown",
      "source": [
        "#### **Convolutional Autoencoder [15 Points]**"
      ],
      "metadata": {
        "id": "aSBT7XjHe0h0"
      }
    },
    {
      "cell_type": "markdown",
      "source": [
        "In this part, you are requested to implement an autoencoder model using convolutional layers. The architecture of a convolutional autoencoder is shown in the below figure.\n",
        "\n",
        "![Convolutional Autoencoder Architecture](https://drive.google.com/uc?export=view&id=18Ztf-zhMFC_IXDTnvGCUeGgZx-7duu0o)\n",
        "\n",
        " The (in_channel, out_channel) pairs of the layers should be defined as follows:\n",
        "\n",
        "**Encoder:**\n",
        "- (3, 16)\n",
        "- (16, 32)\n",
        "- (32, 64)\n",
        "\n",
        "**Decoder:**\n",
        "- (64, 32)\n",
        "- (32, 16)\n",
        "- (16, 3)\n",
        "\n",
        "You are free to choose the kernel and padding sizes of the layers. In each layer, [2D batch normalization](https://pytorch.org/docs/stable/generated/torch.nn.BatchNorm2d.html) should be applied and the resulting values should be passed through a LeakyReLU layer with slope 0.2, which is the activation function. Since the image pixel value range is set to [-1,1] in the dataset, the outputs should be bounded so. Therefore, you should be using a Tanh activation function in the last layer instead of the normalization and LeakyReLU layers. \n",
        "\n",
        "In the encoder part of the network, use max pooling in each layer for decreasing the resolution. The stride size should be set to one in these layers. In the decoder network, use [transposed convolution](https://pytorch.org/docs/stable/generated/torch.nn.ConvTranspose2d.html) (deconvolution) layers with stride two for increasing the resolution back. "
      ],
      "metadata": {
        "id": "lw4yXKnke3M_"
      }
    },
    {
      "cell_type": "code",
      "source": [
        "import torch.nn as nn\n",
        "\n",
        "class MnistAutoencoderConv(nn.Module):\n",
        "    def __init__(self):\n",
        "        super().__init__()\n",
        "\n",
        "        \n",
        "        self.encode = nn.Sequential(\n",
        "            \n",
        "            nn.Conv2d(3, 16, kernel_size=3,stride=1, padding=1),\n",
        "            nn.BatchNorm2d(16),\n",
        "            nn.LeakyReLU(0.2),\n",
        "            nn.MaxPool2d(kernel_size=2, stride=2),\n",
        "\n",
        "            nn.Conv2d(16, 32, kernel_size=3,stride=1, padding=1),\n",
        "            nn.BatchNorm2d(32),\n",
        "            nn.LeakyReLU(0.2),\n",
        "            nn.MaxPool2d(kernel_size=2, stride=2),\n",
        "\n",
        "            nn.Conv2d(32, 64, kernel_size=3,stride=1, padding=1),\n",
        "            nn.BatchNorm2d(64),\n",
        "            nn.LeakyReLU(0.2),\n",
        "            nn.MaxPool2d(kernel_size=2, stride=2)\n",
        "        )\n",
        "\n",
        "        \n",
        "        self.decode = nn.Sequential(\n",
        "            \n",
        "            nn.ConvTranspose2d(64, 32, kernel_size=3, stride=2, padding=1, output_padding=1),\n",
        "            nn.BatchNorm2d(32),\n",
        "            nn.LeakyReLU(0.2),\n",
        "\n",
        "            nn.ConvTranspose2d(32, 16, kernel_size=3, stride=2, padding=1, output_padding=1),\n",
        "            nn.BatchNorm2d(16),\n",
        "            nn.LeakyReLU(0.2),\n",
        "\n",
        "            nn.ConvTranspose2d(16, 3, kernel_size=3, stride=2, padding=1, output_padding=1),\n",
        "            nn.Tanh()\n",
        "        )\n",
        "    \n",
        "    def forward(self, x):\n",
        "        enc = self.encode(x)\n",
        "        dec = self.decode(enc)\n",
        "        return dec"
      ],
      "metadata": {
        "id": "LHSbmwvcUMn6"
      },
      "execution_count": 10,
      "outputs": []
    },
    {
      "cell_type": "markdown",
      "source": [
        "### **Implementing the Training Loop [15 Points]**"
      ],
      "metadata": {
        "id": "9YwxmMCrWjtb"
      }
    },
    {
      "cell_type": "markdown",
      "source": [
        "Define your training loop in this function. In the following parts, this function will be called to train both the fully connected and the convolutional autoencoders. The input arguments are provided below. Apply the training progress and return a list of losses that are calculated on each epoch. You should sum the iteration losses up during an epoch and take the mean of them to calculate the running loss of that epoch.\n",
        "\n",
        "To be able to learn inpainting, you should mask the input images as follows:\n",
        "\n",
        "![MNIST Masking](https://drive.google.com/uc?export=view&id=1gIELbRSE188PQHv_uGktPX_2cvAtMbN-)\n",
        "\n",
        "Simply, you should set the input tensor columns starting from 16 to 32 as -1 (black pixel). For the loss function, you should use the original image as the ground truth image so that the network learns how to fill the masked area of the input image and output the restored image. Before assigning the black pixels, do not forget to clone the original image to use it later in the loss function."
      ],
      "metadata": {
        "id": "6xMSf3sofmJz"
      }
    },
    {
      "cell_type": "code",
      "source": [
        "def train_model(model, train_dataloader, optimizer, loss_func, num_epochs):\n",
        "\n",
        "    model.train()\n",
        "\n",
        "    losses=[]\n",
        "\n",
        "    for epoch in range(num_epochs):\n",
        "\n",
        "        print(f'Epoch {epoch+1}/{num_epochs}')\n",
        "        losses_per_epoch=[]\n",
        "\n",
        "        for data in tqdm(train_dataloader):\n",
        "\n",
        "          data=data.to(device)\n",
        "          mask=data.clone()\n",
        "          mask[:,:,:,16:]=-1\n",
        "          \n",
        "          out=model(mask)\n",
        "          loss=loss_func(out,data)\n",
        "          losses_per_epoch.append(loss)\n",
        "\n",
        "          optimizer.zero_grad()\n",
        "          loss.backward()\n",
        "          optimizer.step()\n",
        "\n",
        "        epoch_loss=sum(losses_per_epoch)/len(losses_per_epoch)\n",
        "        losses.append(epoch_loss.item())\n",
        "        print(\"Loss:\",epoch_loss.item())\n",
        "\n",
        "    return losses"
      ],
      "metadata": {
        "id": "cifEP9HEWQde"
      },
      "execution_count": 11,
      "outputs": []
    },
    {
      "cell_type": "markdown",
      "source": [
        "### **Implementing the Evaluation Function [15 Points]**"
      ],
      "metadata": {
        "id": "ms6LRikETyds"
      }
    },
    {
      "cell_type": "markdown",
      "source": [
        "Implement an evaluation function that returns the mean MSE calculated over the test dataset samples."
      ],
      "metadata": {
        "id": "3XTr6dpe-0NN"
      }
    },
    {
      "cell_type": "code",
      "source": [
        "def evaluate_model(model, test_dataloader,loss_func):\n",
        "  model.eval()\n",
        "  with torch.no_grad():\n",
        "\n",
        "    losses=[]\n",
        "\n",
        "    for test_data in tqdm(test_dataloader):\n",
        "\n",
        "      test_data=test_data.to(device)\n",
        "      mask_data=test_data.clone()\n",
        "      mask_data[:,:,:,16:]=-1\n",
        "\n",
        "      out=model(mask_data)\n",
        "      loss=loss_func(test_data,out).item()\n",
        "      losses.append(loss)\n",
        "\n",
        "    total_loss=sum(losses)/len(losses)\n",
        "\n",
        "  return total_loss"
      ],
      "metadata": {
        "id": "JW-RK7vDT3l9"
      },
      "execution_count": 12,
      "outputs": []
    },
    {
      "cell_type": "markdown",
      "source": [
        "### **Inpainting Visualization Function**"
      ],
      "metadata": {
        "id": "UjkRLMF0ZCtk"
      }
    },
    {
      "cell_type": "markdown",
      "source": [
        "The below code will be used to visualize the outputs of the trained models later. \n",
        "\n",
        "**Do not change the cell**"
      ],
      "metadata": {
        "id": "hI4ZNkVq_onm"
      }
    },
    {
      "cell_type": "code",
      "source": [
        "def visualize_inpainting(model, dataset):\n",
        "    seed_everything(464)\n",
        "    dataloader = DataLoader(dataset, batch_size=10, shuffle=True)\n",
        "    images = next(iter(dataloader)) # Taking one batch from the dataloader\n",
        "    images = images\n",
        "    model.eval()\n",
        "    with torch.no_grad():\n",
        "      masked_images = images.clone()\n",
        "      masked_images[:,:,:,16:] = -1\n",
        "      inpainted_images = model(masked_images.cuda()).cpu()\n",
        "    images = (images + 1) / 2\n",
        "    masked_images = (masked_images + 1) / 2\n",
        "    inpainted_images = (inpainted_images + 1) / 2\n",
        "    images_concat = torch.cat((images, masked_images, inpainted_images), dim=2)\n",
        "    grid_img = torchvision.utils.make_grid(images_concat, nrow=10)\n",
        "    plt.axis('off')\n",
        "    plt.imshow(grid_img.permute(1, 2, 0))\n",
        "    plt.show()"
      ],
      "metadata": {
        "id": "VAuNmuIelqzI"
      },
      "execution_count": 13,
      "outputs": []
    },
    {
      "cell_type": "markdown",
      "source": [
        "### **Training and Evaluating the FC Model [5 Points]**"
      ],
      "metadata": {
        "id": "C32DbWgOUjKZ"
      }
    },
    {
      "cell_type": "markdown",
      "source": [
        "Define your loss function as MSE, set learning rate to 2e-4, create Adam optimizer, and set number of epochs to 50. Later, call the train_model function that you implemented. Visualize the returned losses on a plot (loss vs. epoch). Lastly, call evaluate_model function that you implemented and print the accuracy the model reached on the test dataset. Also, call the visualize_inpainting function to observe the final inpainting results on the test dataset.\n",
        "\n"
      ],
      "metadata": {
        "id": "lYdoryMh_9HN"
      }
    },
    {
      "cell_type": "code",
      "source": [
        "seed_everything(464)\n",
        "model_fc = MnistAutoencoderFC() ## Uncomment when the model is implemented\n",
        "loss_fc=torch.nn.MSELoss()\n",
        "opt_fc=torch.optim.Adam(model_fc.parameters(), lr=2e-4)\n",
        "model_fc = model_fc.to(device)\n",
        "train_losses_fc=train_model(model_fc, train_dataloader, opt_fc, loss_fc, 50)"
      ],
      "metadata": {
        "id": "v50u3FQAWQbI",
        "colab": {
          "base_uri": "https://localhost:8080/"
        },
        "outputId": "9aee95b9-f94f-498d-c18e-bfbf8645d26d"
      },
      "execution_count": 14,
      "outputs": [
        {
          "output_type": "stream",
          "name": "stdout",
          "text": [
            "Epoch 1/50\n"
          ]
        },
        {
          "output_type": "stream",
          "name": "stderr",
          "text": [
            "100%|██████████| 782/782 [00:29<00:00, 26.45it/s]\n"
          ]
        },
        {
          "output_type": "stream",
          "name": "stdout",
          "text": [
            "Loss: 0.15080676972866058\n",
            "Epoch 2/50\n"
          ]
        },
        {
          "output_type": "stream",
          "name": "stderr",
          "text": [
            "100%|██████████| 782/782 [00:23<00:00, 32.60it/s]\n"
          ]
        },
        {
          "output_type": "stream",
          "name": "stdout",
          "text": [
            "Loss: 0.08764787763357162\n",
            "Epoch 3/50\n"
          ]
        },
        {
          "output_type": "stream",
          "name": "stderr",
          "text": [
            "100%|██████████| 782/782 [00:25<00:00, 31.05it/s]\n"
          ]
        },
        {
          "output_type": "stream",
          "name": "stdout",
          "text": [
            "Loss: 0.07854127883911133\n",
            "Epoch 4/50\n"
          ]
        },
        {
          "output_type": "stream",
          "name": "stderr",
          "text": [
            "100%|██████████| 782/782 [00:26<00:00, 29.40it/s]\n"
          ]
        },
        {
          "output_type": "stream",
          "name": "stdout",
          "text": [
            "Loss: 0.07357978075742722\n",
            "Epoch 5/50\n"
          ]
        },
        {
          "output_type": "stream",
          "name": "stderr",
          "text": [
            "100%|██████████| 782/782 [00:25<00:00, 30.55it/s]\n"
          ]
        },
        {
          "output_type": "stream",
          "name": "stdout",
          "text": [
            "Loss: 0.07032547146081924\n",
            "Epoch 6/50\n"
          ]
        },
        {
          "output_type": "stream",
          "name": "stderr",
          "text": [
            "100%|██████████| 782/782 [00:25<00:00, 30.37it/s]\n"
          ]
        },
        {
          "output_type": "stream",
          "name": "stdout",
          "text": [
            "Loss: 0.06780710071325302\n",
            "Epoch 7/50\n"
          ]
        },
        {
          "output_type": "stream",
          "name": "stderr",
          "text": [
            "100%|██████████| 782/782 [00:26<00:00, 29.70it/s]\n"
          ]
        },
        {
          "output_type": "stream",
          "name": "stdout",
          "text": [
            "Loss: 0.06569090485572815\n",
            "Epoch 8/50\n"
          ]
        },
        {
          "output_type": "stream",
          "name": "stderr",
          "text": [
            "100%|██████████| 782/782 [00:25<00:00, 30.14it/s]\n"
          ]
        },
        {
          "output_type": "stream",
          "name": "stdout",
          "text": [
            "Loss: 0.06433216482400894\n",
            "Epoch 9/50\n"
          ]
        },
        {
          "output_type": "stream",
          "name": "stderr",
          "text": [
            "100%|██████████| 782/782 [00:26<00:00, 29.57it/s]\n"
          ]
        },
        {
          "output_type": "stream",
          "name": "stdout",
          "text": [
            "Loss: 0.06278397142887115\n",
            "Epoch 10/50\n"
          ]
        },
        {
          "output_type": "stream",
          "name": "stderr",
          "text": [
            "100%|██████████| 782/782 [00:26<00:00, 29.35it/s]\n"
          ]
        },
        {
          "output_type": "stream",
          "name": "stdout",
          "text": [
            "Loss: 0.06148791313171387\n",
            "Epoch 11/50\n"
          ]
        },
        {
          "output_type": "stream",
          "name": "stderr",
          "text": [
            "100%|██████████| 782/782 [00:28<00:00, 27.45it/s]\n"
          ]
        },
        {
          "output_type": "stream",
          "name": "stdout",
          "text": [
            "Loss: 0.060519468039274216\n",
            "Epoch 12/50\n"
          ]
        },
        {
          "output_type": "stream",
          "name": "stderr",
          "text": [
            "100%|██████████| 782/782 [00:27<00:00, 28.82it/s]\n"
          ]
        },
        {
          "output_type": "stream",
          "name": "stdout",
          "text": [
            "Loss: 0.05954807251691818\n",
            "Epoch 13/50\n"
          ]
        },
        {
          "output_type": "stream",
          "name": "stderr",
          "text": [
            "100%|██████████| 782/782 [00:26<00:00, 29.59it/s]\n"
          ]
        },
        {
          "output_type": "stream",
          "name": "stdout",
          "text": [
            "Loss: 0.0589432418346405\n",
            "Epoch 14/50\n"
          ]
        },
        {
          "output_type": "stream",
          "name": "stderr",
          "text": [
            "100%|██████████| 782/782 [00:26<00:00, 29.55it/s]\n"
          ]
        },
        {
          "output_type": "stream",
          "name": "stdout",
          "text": [
            "Loss: 0.058231279253959656\n",
            "Epoch 15/50\n"
          ]
        },
        {
          "output_type": "stream",
          "name": "stderr",
          "text": [
            "100%|██████████| 782/782 [00:26<00:00, 29.92it/s]\n"
          ]
        },
        {
          "output_type": "stream",
          "name": "stdout",
          "text": [
            "Loss: 0.057429879903793335\n",
            "Epoch 16/50\n"
          ]
        },
        {
          "output_type": "stream",
          "name": "stderr",
          "text": [
            "100%|██████████| 782/782 [00:26<00:00, 30.02it/s]\n"
          ]
        },
        {
          "output_type": "stream",
          "name": "stdout",
          "text": [
            "Loss: 0.056935325264930725\n",
            "Epoch 17/50\n"
          ]
        },
        {
          "output_type": "stream",
          "name": "stderr",
          "text": [
            "100%|██████████| 782/782 [00:25<00:00, 30.23it/s]\n"
          ]
        },
        {
          "output_type": "stream",
          "name": "stdout",
          "text": [
            "Loss: 0.05629807338118553\n",
            "Epoch 18/50\n"
          ]
        },
        {
          "output_type": "stream",
          "name": "stderr",
          "text": [
            "100%|██████████| 782/782 [00:25<00:00, 30.44it/s]\n"
          ]
        },
        {
          "output_type": "stream",
          "name": "stdout",
          "text": [
            "Loss: 0.05565522611141205\n",
            "Epoch 19/50\n"
          ]
        },
        {
          "output_type": "stream",
          "name": "stderr",
          "text": [
            "100%|██████████| 782/782 [00:26<00:00, 29.28it/s]\n"
          ]
        },
        {
          "output_type": "stream",
          "name": "stdout",
          "text": [
            "Loss: 0.055187780410051346\n",
            "Epoch 20/50\n"
          ]
        },
        {
          "output_type": "stream",
          "name": "stderr",
          "text": [
            "100%|██████████| 782/782 [00:27<00:00, 28.64it/s]\n"
          ]
        },
        {
          "output_type": "stream",
          "name": "stdout",
          "text": [
            "Loss: 0.05475462228059769\n",
            "Epoch 21/50\n"
          ]
        },
        {
          "output_type": "stream",
          "name": "stderr",
          "text": [
            "100%|██████████| 782/782 [00:26<00:00, 29.03it/s]\n"
          ]
        },
        {
          "output_type": "stream",
          "name": "stdout",
          "text": [
            "Loss: 0.05424825847148895\n",
            "Epoch 22/50\n"
          ]
        },
        {
          "output_type": "stream",
          "name": "stderr",
          "text": [
            "100%|██████████| 782/782 [00:27<00:00, 28.28it/s]\n"
          ]
        },
        {
          "output_type": "stream",
          "name": "stdout",
          "text": [
            "Loss: 0.05398018658161163\n",
            "Epoch 23/50\n"
          ]
        },
        {
          "output_type": "stream",
          "name": "stderr",
          "text": [
            "100%|██████████| 782/782 [00:26<00:00, 29.20it/s]\n"
          ]
        },
        {
          "output_type": "stream",
          "name": "stdout",
          "text": [
            "Loss: 0.053449779748916626\n",
            "Epoch 24/50\n"
          ]
        },
        {
          "output_type": "stream",
          "name": "stderr",
          "text": [
            "100%|██████████| 782/782 [00:26<00:00, 29.31it/s]\n"
          ]
        },
        {
          "output_type": "stream",
          "name": "stdout",
          "text": [
            "Loss: 0.0532057024538517\n",
            "Epoch 25/50\n"
          ]
        },
        {
          "output_type": "stream",
          "name": "stderr",
          "text": [
            "100%|██████████| 782/782 [00:26<00:00, 29.23it/s]\n"
          ]
        },
        {
          "output_type": "stream",
          "name": "stdout",
          "text": [
            "Loss: 0.05269027128815651\n",
            "Epoch 26/50\n"
          ]
        },
        {
          "output_type": "stream",
          "name": "stderr",
          "text": [
            "100%|██████████| 782/782 [00:26<00:00, 29.43it/s]\n"
          ]
        },
        {
          "output_type": "stream",
          "name": "stdout",
          "text": [
            "Loss: 0.05242246389389038\n",
            "Epoch 27/50\n"
          ]
        },
        {
          "output_type": "stream",
          "name": "stderr",
          "text": [
            "100%|██████████| 782/782 [00:27<00:00, 27.94it/s]\n"
          ]
        },
        {
          "output_type": "stream",
          "name": "stdout",
          "text": [
            "Loss: 0.0521790087223053\n",
            "Epoch 28/50\n"
          ]
        },
        {
          "output_type": "stream",
          "name": "stderr",
          "text": [
            "100%|██████████| 782/782 [00:27<00:00, 28.39it/s]\n"
          ]
        },
        {
          "output_type": "stream",
          "name": "stdout",
          "text": [
            "Loss: 0.05186459422111511\n",
            "Epoch 29/50\n"
          ]
        },
        {
          "output_type": "stream",
          "name": "stderr",
          "text": [
            "100%|██████████| 782/782 [00:26<00:00, 29.24it/s]\n"
          ]
        },
        {
          "output_type": "stream",
          "name": "stdout",
          "text": [
            "Loss: 0.05155413970351219\n",
            "Epoch 30/50\n"
          ]
        },
        {
          "output_type": "stream",
          "name": "stderr",
          "text": [
            "100%|██████████| 782/782 [00:27<00:00, 28.73it/s]\n"
          ]
        },
        {
          "output_type": "stream",
          "name": "stdout",
          "text": [
            "Loss: 0.051271628588438034\n",
            "Epoch 31/50\n"
          ]
        },
        {
          "output_type": "stream",
          "name": "stderr",
          "text": [
            "100%|██████████| 782/782 [00:35<00:00, 22.03it/s]\n"
          ]
        },
        {
          "output_type": "stream",
          "name": "stdout",
          "text": [
            "Loss: 0.050948407500982285\n",
            "Epoch 32/50\n"
          ]
        },
        {
          "output_type": "stream",
          "name": "stderr",
          "text": [
            "100%|██████████| 782/782 [00:27<00:00, 28.36it/s]\n"
          ]
        },
        {
          "output_type": "stream",
          "name": "stdout",
          "text": [
            "Loss: 0.050804492086172104\n",
            "Epoch 33/50\n"
          ]
        },
        {
          "output_type": "stream",
          "name": "stderr",
          "text": [
            "100%|██████████| 782/782 [00:27<00:00, 28.72it/s]\n"
          ]
        },
        {
          "output_type": "stream",
          "name": "stdout",
          "text": [
            "Loss: 0.05054659768939018\n",
            "Epoch 34/50\n"
          ]
        },
        {
          "output_type": "stream",
          "name": "stderr",
          "text": [
            "100%|██████████| 782/782 [00:28<00:00, 27.05it/s]\n"
          ]
        },
        {
          "output_type": "stream",
          "name": "stdout",
          "text": [
            "Loss: 0.05028775706887245\n",
            "Epoch 35/50\n"
          ]
        },
        {
          "output_type": "stream",
          "name": "stderr",
          "text": [
            "100%|██████████| 782/782 [00:27<00:00, 28.17it/s]\n"
          ]
        },
        {
          "output_type": "stream",
          "name": "stdout",
          "text": [
            "Loss: 0.050124458968639374\n",
            "Epoch 36/50\n"
          ]
        },
        {
          "output_type": "stream",
          "name": "stderr",
          "text": [
            "100%|██████████| 782/782 [00:27<00:00, 28.81it/s]\n"
          ]
        },
        {
          "output_type": "stream",
          "name": "stdout",
          "text": [
            "Loss: 0.0498279370367527\n",
            "Epoch 37/50\n"
          ]
        },
        {
          "output_type": "stream",
          "name": "stderr",
          "text": [
            "100%|██████████| 782/782 [00:26<00:00, 29.62it/s]\n"
          ]
        },
        {
          "output_type": "stream",
          "name": "stdout",
          "text": [
            "Loss: 0.04979408532381058\n",
            "Epoch 38/50\n"
          ]
        },
        {
          "output_type": "stream",
          "name": "stderr",
          "text": [
            "100%|██████████| 782/782 [00:26<00:00, 29.38it/s]\n"
          ]
        },
        {
          "output_type": "stream",
          "name": "stdout",
          "text": [
            "Loss: 0.04949125647544861\n",
            "Epoch 39/50\n"
          ]
        },
        {
          "output_type": "stream",
          "name": "stderr",
          "text": [
            "100%|██████████| 782/782 [00:26<00:00, 29.48it/s]\n"
          ]
        },
        {
          "output_type": "stream",
          "name": "stdout",
          "text": [
            "Loss: 0.0493052639067173\n",
            "Epoch 40/50\n"
          ]
        },
        {
          "output_type": "stream",
          "name": "stderr",
          "text": [
            "100%|██████████| 782/782 [00:26<00:00, 29.09it/s]\n"
          ]
        },
        {
          "output_type": "stream",
          "name": "stdout",
          "text": [
            "Loss: 0.049132026731967926\n",
            "Epoch 41/50\n"
          ]
        },
        {
          "output_type": "stream",
          "name": "stderr",
          "text": [
            "100%|██████████| 782/782 [00:26<00:00, 29.34it/s]\n"
          ]
        },
        {
          "output_type": "stream",
          "name": "stdout",
          "text": [
            "Loss: 0.048883356153964996\n",
            "Epoch 42/50\n"
          ]
        },
        {
          "output_type": "stream",
          "name": "stderr",
          "text": [
            "100%|██████████| 782/782 [00:28<00:00, 27.11it/s]\n"
          ]
        },
        {
          "output_type": "stream",
          "name": "stdout",
          "text": [
            "Loss: 0.04883189871907234\n",
            "Epoch 43/50\n"
          ]
        },
        {
          "output_type": "stream",
          "name": "stderr",
          "text": [
            "100%|██████████| 782/782 [00:26<00:00, 29.15it/s]\n"
          ]
        },
        {
          "output_type": "stream",
          "name": "stdout",
          "text": [
            "Loss: 0.04855194315314293\n",
            "Epoch 44/50\n"
          ]
        },
        {
          "output_type": "stream",
          "name": "stderr",
          "text": [
            "100%|██████████| 782/782 [00:26<00:00, 29.12it/s]\n"
          ]
        },
        {
          "output_type": "stream",
          "name": "stdout",
          "text": [
            "Loss: 0.048504993319511414\n",
            "Epoch 45/50\n"
          ]
        },
        {
          "output_type": "stream",
          "name": "stderr",
          "text": [
            "100%|██████████| 782/782 [00:26<00:00, 29.22it/s]\n"
          ]
        },
        {
          "output_type": "stream",
          "name": "stdout",
          "text": [
            "Loss: 0.048280779272317886\n",
            "Epoch 46/50\n"
          ]
        },
        {
          "output_type": "stream",
          "name": "stderr",
          "text": [
            "100%|██████████| 782/782 [00:26<00:00, 29.21it/s]\n"
          ]
        },
        {
          "output_type": "stream",
          "name": "stdout",
          "text": [
            "Loss: 0.04817786440253258\n",
            "Epoch 47/50\n"
          ]
        },
        {
          "output_type": "stream",
          "name": "stderr",
          "text": [
            "100%|██████████| 782/782 [00:27<00:00, 28.92it/s]\n"
          ]
        },
        {
          "output_type": "stream",
          "name": "stdout",
          "text": [
            "Loss: 0.0479109063744545\n",
            "Epoch 48/50\n"
          ]
        },
        {
          "output_type": "stream",
          "name": "stderr",
          "text": [
            "100%|██████████| 782/782 [00:27<00:00, 28.85it/s]\n"
          ]
        },
        {
          "output_type": "stream",
          "name": "stdout",
          "text": [
            "Loss: 0.04800892248749733\n",
            "Epoch 49/50\n"
          ]
        },
        {
          "output_type": "stream",
          "name": "stderr",
          "text": [
            "100%|██████████| 782/782 [00:27<00:00, 28.85it/s]\n"
          ]
        },
        {
          "output_type": "stream",
          "name": "stdout",
          "text": [
            "Loss: 0.047784872353076935\n",
            "Epoch 50/50\n"
          ]
        },
        {
          "output_type": "stream",
          "name": "stderr",
          "text": [
            "100%|██████████| 782/782 [00:26<00:00, 28.99it/s]"
          ]
        },
        {
          "output_type": "stream",
          "name": "stdout",
          "text": [
            "Loss: 0.047591157257556915\n"
          ]
        },
        {
          "output_type": "stream",
          "name": "stderr",
          "text": [
            "\n"
          ]
        }
      ]
    },
    {
      "cell_type": "code",
      "source": [
        "plt.figure()\n",
        "plt.plot(train_losses_fc)\n",
        "plt.xlabel(\"Number of Epochs\")\n",
        "plt.ylabel(\"MSE Per Epoch\")\n",
        "plt.title(\"MSE Per Epoch for Fully Connected Model\")\n",
        "plt.show()"
      ],
      "metadata": {
        "colab": {
          "base_uri": "https://localhost:8080/",
          "height": 472
        },
        "id": "jDz_r64oi07-",
        "outputId": "e2f61565-7398-4d71-93ae-606c2ce45961"
      },
      "execution_count": 22,
      "outputs": [
        {
          "output_type": "display_data",
          "data": {
            "text/plain": [
              "<Figure size 640x480 with 1 Axes>"
            ],
            "image/png": "[encoded data removed]"
          },
          "metadata": {}
        }
      ]
    },
    {
      "cell_type": "code",
      "source": [
        "test_loss_fc=evaluate_model(model_fc, test_dataloader,loss_fc)  \n",
        "print(\"\\n\")\n",
        "print(\"Test Loss: \",test_loss_fc)"
      ],
      "metadata": {
        "colab": {
          "base_uri": "https://localhost:8080/"
        },
        "id": "xV1p6fi6TVEr",
        "outputId": "cfa8bad9-8b1e-4d66-eac6-c099daf8b790"
      },
      "execution_count": 15,
      "outputs": [
        {
          "output_type": "stream",
          "name": "stderr",
          "text": [
            "100%|██████████| 20/20 [00:04<00:00,  4.09it/s]"
          ]
        },
        {
          "output_type": "stream",
          "name": "stdout",
          "text": [
            "\n",
            "\n",
            "Test Loss:  0.047600108105689286\n"
          ]
        },
        {
          "output_type": "stream",
          "name": "stderr",
          "text": [
            "\n"
          ]
        }
      ]
    },
    {
      "cell_type": "code",
      "source": [
        "visualize_inpainting(model_fc, test_dataset) ## Uncomment when the model is trained"
      ],
      "metadata": {
        "id": "vWbXxz6IZPBE",
        "colab": {
          "base_uri": "https://localhost:8080/",
          "height": 182
        },
        "outputId": "a32c867a-2623-4a64-ab9b-cdf25787b1f0"
      },
      "execution_count": 17,
      "outputs": [
        {
          "output_type": "display_data",
          "data": {
            "text/plain": [
              "<Figure size 640x480 with 1 Axes>"
            ],
            "image/png": "[encoded data removed]"
          },
          "metadata": {}
        }
      ]
    },
    {
      "cell_type": "markdown",
      "source": [
        "### **Training and Evaluating the Convolutional Model [5 Points]**"
      ],
      "metadata": {
        "id": "0JOGHIOakmL-"
      }
    },
    {
      "cell_type": "markdown",
      "source": [
        "Apply the same steps given in the FC Autoencoder part."
      ],
      "metadata": {
        "id": "tvkBO1iyA7AG"
      }
    },
    {
      "cell_type": "code",
      "source": [
        "seed_everything(464)\n",
        "model_conv = MnistAutoencoderConv() ## Uncomment when the model is implemented\n",
        "loss_conv=torch.nn.MSELoss()\n",
        "opt_conv=torch.optim.Adam(model_conv.parameters(), lr=2e-4)\n",
        "model_conv = model_conv.to(device)\n",
        "train_losses_conv=train_model(model_conv, train_dataloader, opt_conv, loss_conv, 50)"
      ],
      "metadata": {
        "id": "8JhkdYbwiw0s",
        "colab": {
          "base_uri": "https://localhost:8080/"
        },
        "outputId": "d7f5742a-33e4-47a0-9bb9-57a503d9a993"
      },
      "execution_count": 18,
      "outputs": [
        {
          "output_type": "stream",
          "name": "stdout",
          "text": [
            "Epoch 1/50\n"
          ]
        },
        {
          "output_type": "stream",
          "name": "stderr",
          "text": [
            "100%|██████████| 782/782 [00:30<00:00, 25.83it/s]\n"
          ]
        },
        {
          "output_type": "stream",
          "name": "stdout",
          "text": [
            "Loss: 0.3054704964160919\n",
            "Epoch 2/50\n"
          ]
        },
        {
          "output_type": "stream",
          "name": "stderr",
          "text": [
            "100%|██████████| 782/782 [00:25<00:00, 30.58it/s]\n"
          ]
        },
        {
          "output_type": "stream",
          "name": "stdout",
          "text": [
            "Loss: 0.09086249023675919\n",
            "Epoch 3/50\n"
          ]
        },
        {
          "output_type": "stream",
          "name": "stderr",
          "text": [
            "100%|██████████| 782/782 [00:26<00:00, 29.77it/s]\n"
          ]
        },
        {
          "output_type": "stream",
          "name": "stdout",
          "text": [
            "Loss: 0.07384936511516571\n",
            "Epoch 4/50\n"
          ]
        },
        {
          "output_type": "stream",
          "name": "stderr",
          "text": [
            "100%|██████████| 782/782 [00:26<00:00, 29.61it/s]\n"
          ]
        },
        {
          "output_type": "stream",
          "name": "stdout",
          "text": [
            "Loss: 0.06812484562397003\n",
            "Epoch 5/50\n"
          ]
        },
        {
          "output_type": "stream",
          "name": "stderr",
          "text": [
            "100%|██████████| 782/782 [00:26<00:00, 29.59it/s]\n"
          ]
        },
        {
          "output_type": "stream",
          "name": "stdout",
          "text": [
            "Loss: 0.06499343365430832\n",
            "Epoch 6/50\n"
          ]
        },
        {
          "output_type": "stream",
          "name": "stderr",
          "text": [
            "100%|██████████| 782/782 [00:27<00:00, 28.41it/s]\n"
          ]
        },
        {
          "output_type": "stream",
          "name": "stdout",
          "text": [
            "Loss: 0.06291928142309189\n",
            "Epoch 7/50\n"
          ]
        },
        {
          "output_type": "stream",
          "name": "stderr",
          "text": [
            "100%|██████████| 782/782 [00:29<00:00, 26.12it/s]\n"
          ]
        },
        {
          "output_type": "stream",
          "name": "stdout",
          "text": [
            "Loss: 0.06132920831441879\n",
            "Epoch 8/50\n"
          ]
        },
        {
          "output_type": "stream",
          "name": "stderr",
          "text": [
            "100%|██████████| 782/782 [00:26<00:00, 29.47it/s]\n"
          ]
        },
        {
          "output_type": "stream",
          "name": "stdout",
          "text": [
            "Loss: 0.06017094478011131\n",
            "Epoch 9/50\n"
          ]
        },
        {
          "output_type": "stream",
          "name": "stderr",
          "text": [
            "100%|██████████| 782/782 [00:26<00:00, 29.18it/s]\n"
          ]
        },
        {
          "output_type": "stream",
          "name": "stdout",
          "text": [
            "Loss: 0.05912097916007042\n",
            "Epoch 10/50\n"
          ]
        },
        {
          "output_type": "stream",
          "name": "stderr",
          "text": [
            "100%|██████████| 782/782 [00:26<00:00, 29.16it/s]\n"
          ]
        },
        {
          "output_type": "stream",
          "name": "stdout",
          "text": [
            "Loss: 0.05826893821358681\n",
            "Epoch 11/50\n"
          ]
        },
        {
          "output_type": "stream",
          "name": "stderr",
          "text": [
            "100%|██████████| 782/782 [00:26<00:00, 29.25it/s]\n"
          ]
        },
        {
          "output_type": "stream",
          "name": "stdout",
          "text": [
            "Loss: 0.05753125250339508\n",
            "Epoch 12/50\n"
          ]
        },
        {
          "output_type": "stream",
          "name": "stderr",
          "text": [
            "100%|██████████| 782/782 [00:27<00:00, 28.95it/s]\n"
          ]
        },
        {
          "output_type": "stream",
          "name": "stdout",
          "text": [
            "Loss: 0.056832730770111084\n",
            "Epoch 13/50\n"
          ]
        },
        {
          "output_type": "stream",
          "name": "stderr",
          "text": [
            "100%|██████████| 782/782 [00:26<00:00, 29.38it/s]\n"
          ]
        },
        {
          "output_type": "stream",
          "name": "stdout",
          "text": [
            "Loss: 0.05621885508298874\n",
            "Epoch 14/50\n"
          ]
        },
        {
          "output_type": "stream",
          "name": "stderr",
          "text": [
            "100%|██████████| 782/782 [00:27<00:00, 28.91it/s]\n"
          ]
        },
        {
          "output_type": "stream",
          "name": "stdout",
          "text": [
            "Loss: 0.055800728499889374\n",
            "Epoch 15/50\n"
          ]
        },
        {
          "output_type": "stream",
          "name": "stderr",
          "text": [
            "100%|██████████| 782/782 [00:27<00:00, 28.63it/s]\n"
          ]
        },
        {
          "output_type": "stream",
          "name": "stdout",
          "text": [
            "Loss: 0.05523255839943886\n",
            "Epoch 16/50\n"
          ]
        },
        {
          "output_type": "stream",
          "name": "stderr",
          "text": [
            "100%|██████████| 782/782 [00:27<00:00, 28.92it/s]\n"
          ]
        },
        {
          "output_type": "stream",
          "name": "stdout",
          "text": [
            "Loss: 0.05487519130110741\n",
            "Epoch 17/50\n"
          ]
        },
        {
          "output_type": "stream",
          "name": "stderr",
          "text": [
            "100%|██████████| 782/782 [00:27<00:00, 28.71it/s]\n"
          ]
        },
        {
          "output_type": "stream",
          "name": "stdout",
          "text": [
            "Loss: 0.05451776459813118\n",
            "Epoch 18/50\n"
          ]
        },
        {
          "output_type": "stream",
          "name": "stderr",
          "text": [
            "100%|██████████| 782/782 [00:27<00:00, 28.43it/s]\n"
          ]
        },
        {
          "output_type": "stream",
          "name": "stdout",
          "text": [
            "Loss: 0.05418764799833298\n",
            "Epoch 19/50\n"
          ]
        },
        {
          "output_type": "stream",
          "name": "stderr",
          "text": [
            "100%|██████████| 782/782 [00:26<00:00, 29.09it/s]\n"
          ]
        },
        {
          "output_type": "stream",
          "name": "stdout",
          "text": [
            "Loss: 0.053827714174985886\n",
            "Epoch 20/50\n"
          ]
        },
        {
          "output_type": "stream",
          "name": "stderr",
          "text": [
            "100%|██████████| 782/782 [00:26<00:00, 29.41it/s]\n"
          ]
        },
        {
          "output_type": "stream",
          "name": "stdout",
          "text": [
            "Loss: 0.053541623055934906\n",
            "Epoch 21/50\n"
          ]
        },
        {
          "output_type": "stream",
          "name": "stderr",
          "text": [
            "100%|██████████| 782/782 [00:26<00:00, 29.63it/s]\n"
          ]
        },
        {
          "output_type": "stream",
          "name": "stdout",
          "text": [
            "Loss: 0.053282856941223145\n",
            "Epoch 22/50\n"
          ]
        },
        {
          "output_type": "stream",
          "name": "stderr",
          "text": [
            "100%|██████████| 782/782 [00:26<00:00, 29.27it/s]\n"
          ]
        },
        {
          "output_type": "stream",
          "name": "stdout",
          "text": [
            "Loss: 0.053098127245903015\n",
            "Epoch 23/50\n"
          ]
        },
        {
          "output_type": "stream",
          "name": "stderr",
          "text": [
            "100%|██████████| 782/782 [00:28<00:00, 27.89it/s]\n"
          ]
        },
        {
          "output_type": "stream",
          "name": "stdout",
          "text": [
            "Loss: 0.052764881402254105\n",
            "Epoch 24/50\n"
          ]
        },
        {
          "output_type": "stream",
          "name": "stderr",
          "text": [
            "100%|██████████| 782/782 [00:26<00:00, 29.01it/s]\n"
          ]
        },
        {
          "output_type": "stream",
          "name": "stdout",
          "text": [
            "Loss: 0.05258253961801529\n",
            "Epoch 25/50\n"
          ]
        },
        {
          "output_type": "stream",
          "name": "stderr",
          "text": [
            "100%|██████████| 782/782 [00:26<00:00, 29.07it/s]\n"
          ]
        },
        {
          "output_type": "stream",
          "name": "stdout",
          "text": [
            "Loss: 0.052323661744594574\n",
            "Epoch 26/50\n"
          ]
        },
        {
          "output_type": "stream",
          "name": "stderr",
          "text": [
            "100%|██████████| 782/782 [00:26<00:00, 29.63it/s]\n"
          ]
        },
        {
          "output_type": "stream",
          "name": "stdout",
          "text": [
            "Loss: 0.052098631858825684\n",
            "Epoch 27/50\n"
          ]
        },
        {
          "output_type": "stream",
          "name": "stderr",
          "text": [
            "100%|██████████| 782/782 [00:26<00:00, 29.22it/s]\n"
          ]
        },
        {
          "output_type": "stream",
          "name": "stdout",
          "text": [
            "Loss: 0.052007850259542465\n",
            "Epoch 28/50\n"
          ]
        },
        {
          "output_type": "stream",
          "name": "stderr",
          "text": [
            "100%|██████████| 782/782 [00:26<00:00, 29.37it/s]\n"
          ]
        },
        {
          "output_type": "stream",
          "name": "stdout",
          "text": [
            "Loss: 0.05179395526647568\n",
            "Epoch 29/50\n"
          ]
        },
        {
          "output_type": "stream",
          "name": "stderr",
          "text": [
            "100%|██████████| 782/782 [00:27<00:00, 28.73it/s]\n"
          ]
        },
        {
          "output_type": "stream",
          "name": "stdout",
          "text": [
            "Loss: 0.05157703533768654\n",
            "Epoch 30/50\n"
          ]
        },
        {
          "output_type": "stream",
          "name": "stderr",
          "text": [
            "100%|██████████| 782/782 [00:27<00:00, 28.39it/s]\n"
          ]
        },
        {
          "output_type": "stream",
          "name": "stdout",
          "text": [
            "Loss: 0.05145517736673355\n",
            "Epoch 31/50\n"
          ]
        },
        {
          "output_type": "stream",
          "name": "stderr",
          "text": [
            "100%|██████████| 782/782 [00:27<00:00, 28.59it/s]\n"
          ]
        },
        {
          "output_type": "stream",
          "name": "stdout",
          "text": [
            "Loss: 0.05131751671433449\n",
            "Epoch 32/50\n"
          ]
        },
        {
          "output_type": "stream",
          "name": "stderr",
          "text": [
            "100%|██████████| 782/782 [00:26<00:00, 29.27it/s]\n"
          ]
        },
        {
          "output_type": "stream",
          "name": "stdout",
          "text": [
            "Loss: 0.05113636329770088\n",
            "Epoch 33/50\n"
          ]
        },
        {
          "output_type": "stream",
          "name": "stderr",
          "text": [
            "100%|██████████| 782/782 [00:26<00:00, 29.32it/s]\n"
          ]
        },
        {
          "output_type": "stream",
          "name": "stdout",
          "text": [
            "Loss: 0.050976306200027466\n",
            "Epoch 34/50\n"
          ]
        },
        {
          "output_type": "stream",
          "name": "stderr",
          "text": [
            "100%|██████████| 782/782 [00:27<00:00, 28.58it/s]\n"
          ]
        },
        {
          "output_type": "stream",
          "name": "stdout",
          "text": [
            "Loss: 0.050848785787820816\n",
            "Epoch 35/50\n"
          ]
        },
        {
          "output_type": "stream",
          "name": "stderr",
          "text": [
            "100%|██████████| 782/782 [00:28<00:00, 27.17it/s]\n"
          ]
        },
        {
          "output_type": "stream",
          "name": "stdout",
          "text": [
            "Loss: 0.05071840435266495\n",
            "Epoch 36/50\n"
          ]
        },
        {
          "output_type": "stream",
          "name": "stderr",
          "text": [
            "100%|██████████| 782/782 [00:28<00:00, 27.73it/s]\n"
          ]
        },
        {
          "output_type": "stream",
          "name": "stdout",
          "text": [
            "Loss: 0.05064456909894943\n",
            "Epoch 37/50\n"
          ]
        },
        {
          "output_type": "stream",
          "name": "stderr",
          "text": [
            "100%|██████████| 782/782 [00:28<00:00, 27.82it/s]\n"
          ]
        },
        {
          "output_type": "stream",
          "name": "stdout",
          "text": [
            "Loss: 0.05046289786696434\n",
            "Epoch 38/50\n"
          ]
        },
        {
          "output_type": "stream",
          "name": "stderr",
          "text": [
            "100%|██████████| 782/782 [00:28<00:00, 27.84it/s]\n"
          ]
        },
        {
          "output_type": "stream",
          "name": "stdout",
          "text": [
            "Loss: 0.05036215856671333\n",
            "Epoch 39/50\n"
          ]
        },
        {
          "output_type": "stream",
          "name": "stderr",
          "text": [
            "100%|██████████| 782/782 [00:28<00:00, 27.42it/s]\n"
          ]
        },
        {
          "output_type": "stream",
          "name": "stdout",
          "text": [
            "Loss: 0.05032931640744209\n",
            "Epoch 40/50\n"
          ]
        },
        {
          "output_type": "stream",
          "name": "stderr",
          "text": [
            "100%|██████████| 782/782 [00:28<00:00, 27.75it/s]\n"
          ]
        },
        {
          "output_type": "stream",
          "name": "stdout",
          "text": [
            "Loss: 0.050195030868053436\n",
            "Epoch 41/50\n"
          ]
        },
        {
          "output_type": "stream",
          "name": "stderr",
          "text": [
            "100%|██████████| 782/782 [00:27<00:00, 28.08it/s]\n"
          ]
        },
        {
          "output_type": "stream",
          "name": "stdout",
          "text": [
            "Loss: 0.05011538416147232\n",
            "Epoch 42/50\n"
          ]
        },
        {
          "output_type": "stream",
          "name": "stderr",
          "text": [
            "100%|██████████| 782/782 [00:28<00:00, 27.47it/s]\n"
          ]
        },
        {
          "output_type": "stream",
          "name": "stdout",
          "text": [
            "Loss: 0.05000986158847809\n",
            "Epoch 43/50\n"
          ]
        },
        {
          "output_type": "stream",
          "name": "stderr",
          "text": [
            "100%|██████████| 782/782 [00:28<00:00, 27.72it/s]\n"
          ]
        },
        {
          "output_type": "stream",
          "name": "stdout",
          "text": [
            "Loss: 0.04992257058620453\n",
            "Epoch 44/50\n"
          ]
        },
        {
          "output_type": "stream",
          "name": "stderr",
          "text": [
            "100%|██████████| 782/782 [00:27<00:00, 27.94it/s]\n"
          ]
        },
        {
          "output_type": "stream",
          "name": "stdout",
          "text": [
            "Loss: 0.0498778410255909\n",
            "Epoch 45/50\n"
          ]
        },
        {
          "output_type": "stream",
          "name": "stderr",
          "text": [
            "100%|██████████| 782/782 [00:28<00:00, 27.77it/s]\n"
          ]
        },
        {
          "output_type": "stream",
          "name": "stdout",
          "text": [
            "Loss: 0.04971606656908989\n",
            "Epoch 46/50\n"
          ]
        },
        {
          "output_type": "stream",
          "name": "stderr",
          "text": [
            "100%|██████████| 782/782 [00:27<00:00, 28.64it/s]\n"
          ]
        },
        {
          "output_type": "stream",
          "name": "stdout",
          "text": [
            "Loss: 0.04964996874332428\n",
            "Epoch 47/50\n"
          ]
        },
        {
          "output_type": "stream",
          "name": "stderr",
          "text": [
            "100%|██████████| 782/782 [00:27<00:00, 28.61it/s]\n"
          ]
        },
        {
          "output_type": "stream",
          "name": "stdout",
          "text": [
            "Loss: 0.04952126368880272\n",
            "Epoch 48/50\n"
          ]
        },
        {
          "output_type": "stream",
          "name": "stderr",
          "text": [
            "100%|██████████| 782/782 [00:26<00:00, 29.29it/s]\n"
          ]
        },
        {
          "output_type": "stream",
          "name": "stdout",
          "text": [
            "Loss: 0.049489304423332214\n",
            "Epoch 49/50\n"
          ]
        },
        {
          "output_type": "stream",
          "name": "stderr",
          "text": [
            "100%|██████████| 782/782 [00:26<00:00, 29.50it/s]\n"
          ]
        },
        {
          "output_type": "stream",
          "name": "stdout",
          "text": [
            "Loss: 0.049446724355220795\n",
            "Epoch 50/50\n"
          ]
        },
        {
          "output_type": "stream",
          "name": "stderr",
          "text": [
            "100%|██████████| 782/782 [00:26<00:00, 29.55it/s]"
          ]
        },
        {
          "output_type": "stream",
          "name": "stdout",
          "text": [
            "Loss: 0.049326732754707336\n"
          ]
        },
        {
          "output_type": "stream",
          "name": "stderr",
          "text": [
            "\n"
          ]
        }
      ]
    },
    {
      "cell_type": "code",
      "source": [
        "plt.figure()\n",
        "plt.plot(train_losses_conv)\n",
        "plt.xlabel(\"Number of Epochs\")\n",
        "plt.ylabel(\"MSE Per Epoch\")\n",
        "plt.title(\"MSE Per Epoch for Convolutional Model\")\n",
        "plt.show()"
      ],
      "metadata": {
        "colab": {
          "base_uri": "https://localhost:8080/",
          "height": 472
        },
        "id": "C5h6lUmwe94R",
        "outputId": "52ec5e99-f14a-4c7a-b860-8c41187c7d99"
      },
      "execution_count": 19,
      "outputs": [
        {
          "output_type": "display_data",
          "data": {
            "text/plain": [
              "<Figure size 640x480 with 1 Axes>"
            ],
            "image/png": "[encoded data removed]"
          },
          "metadata": {}
        }
      ]
    },
    {
      "cell_type": "code",
      "source": [
        "test_loss_conv=evaluate_model(model_conv, test_dataloader,loss_conv)  \n",
        "print(\"\\n\")\n",
        "print(\"Test Loss: \",test_loss_conv)"
      ],
      "metadata": {
        "colab": {
          "base_uri": "https://localhost:8080/"
        },
        "id": "S-qr7fDeBsiV",
        "outputId": "12c7a308-691a-4443-86c6-88ee3ab416e1"
      },
      "execution_count": 20,
      "outputs": [
        {
          "output_type": "stream",
          "name": "stderr",
          "text": [
            "100%|██████████| 20/20 [00:04<00:00,  4.24it/s]"
          ]
        },
        {
          "output_type": "stream",
          "name": "stdout",
          "text": [
            "\n",
            "\n",
            "Test Loss:  0.04958275305107236\n"
          ]
        },
        {
          "output_type": "stream",
          "name": "stderr",
          "text": [
            "\n"
          ]
        }
      ]
    },
    {
      "cell_type": "code",
      "source": [
        "visualize_inpainting(model_conv, test_dataset) ## Uncomment when the model is trained"
      ],
      "metadata": {
        "id": "IgiD1WG-ZRgf",
        "colab": {
          "base_uri": "https://localhost:8080/",
          "height": 182
        },
        "outputId": "9dc1a942-964e-4c9d-f29b-16e90957bb01"
      },
      "execution_count": 21,
      "outputs": [
        {
          "output_type": "display_data",
          "data": {
            "text/plain": [
              "<Figure size 640x480 with 1 Axes>"
            ],
            "image/png": "[encoded data removed]"
          },
          "metadata": {}
        }
      ]
    },
    {
      "cell_type": "markdown",
      "source": [
        "### **Discussion [10 Points]**"
      ],
      "metadata": {
        "id": "9yeD6vfptixK"
      }
    },
    {
      "cell_type": "markdown",
      "source": [
        "Discuss the results that you obtained after training the models. Compare the inpainting performances by the visualizations and the accuracy metrics. You can write your answer in the below cell."
      ],
      "metadata": {
        "id": "CEgMTG1QtmtR"
      }
    },
    {
      "cell_type": "markdown",
      "source": [
        "---\n",
        "\n",
        "\n",
        "Both of the models succesfully reconsturcted most of the number images succesfully;however, there were some erros. Firstly, as seen from the reconstruction images \"6\" at the 1st column is reconstructed badly. That is to say even if the original number is \"6\" both of the models gave it as \"0\". I think this problem was an expected one because when we mask the right half of the images, the left half of some numbers are similar to each other, for example in this one you can see that when the right side is masked, the number cannot be understood it could be either 0 or 9. Also this problem can be repeated if we masked the left side of the images for 3 and 8 or 9 and 0. Fortunateley, the rest of the numbers are truely reconsturcted and all of them can be easily recognizable. However, there are some differences between model outputs. For example as seen from the inpaintings \"5\" at the 5th column is seen blurry in convolutional  model while the other one is slightly better. \n",
        "\n",
        "If we check the losses of the models in training part it can be seen that the performances of the models are highly similar to each other. While the final loss for the fully connected model is  around 0.0476, the final loss for the convolutinal model is 0.0493. Therefore, fully connected model is slightly better for traning set. Also when we check the evaluation results it can be seen that the loss for convolutional model is 0.0496 and the loss for fully connected model is 0.0476. Those results are close to the final loss of training stages as expected. Just looking those losses we can say that those models perform similarly but it is natural for fully connected model to gave slightly better inpaintings since it gave less loss at the end.\n",
        "\n",
        "Briefly, the losses got from train and test sets are coherent with the inpaintings results. Even if we couldn't perfectly reconstruct all of the images, fortunately most of them are accurately inpainted.\n",
        "\n",
        "\n",
        "---"
      ],
      "metadata": {
        "id": "ByohpqIyuU3o"
      }
    },
    {
      "cell_type": "code",
      "source": [],
      "metadata": {
        "id": "gQrmrxFzugaG"
      },
      "execution_count": null,
      "outputs": []
    }
  ],
  "metadata": {
    "colab": {
      "provenance": [],
      "gpuType": "T4"
    },
    "kernelspec": {
      "display_name": "Python 3",
      "name": "python3"
    },
    "language_info": {
      "codemirror_mode": {
        "name": "ipython",
        "version": 3
      },
      "file_extension": ".py",
      "mimetype": "text/x-python",
      "name": "python",
      "nbconvert_exporter": "python",
      "pygments_lexer": "ipython3",
      "version": "3.9.12"
    },
    "accelerator": "GPU"
  },
  "nbformat": 4,
  "nbformat_minor": 0
}