{
 "cells": [
  {
   "cell_type": "code",
   "execution_count": 1,
   "id": "e97d5721",
   "metadata": {},
   "outputs": [],
   "source": [
    "import os\n",
    "import numpy as np\n",
    "import pandas as pd\n",
    "import matplotlib.pyplot as plt"
   ]
  },
  {
   "cell_type": "code",
   "execution_count": 2,
   "id": "84bcb721",
   "metadata": {},
   "outputs": [],
   "source": [
    "###Change root variable###\n",
    "root = r'C:\\Users\\Oguz\\Desktop\\Bilkent\\3.2\\CS464\\hw1'\n",
    "os.chdir(root)"
   ]
  },
  {
   "cell_type": "markdown",
   "id": "a04c53f2",
   "metadata": {},
   "source": [
    "##   <font color='red'>Q2.1</font>"
   ]
  },
  {
   "cell_type": "code",
   "execution_count": 3,
   "id": "70c649f8",
   "metadata": {},
   "outputs": [],
   "source": [
    "def counter(array):\n",
    "    spam_count=len(np.argwhere(array == 1))\n",
    "    total_count=len(array)\n",
    "    ham_count=total_count-spam_count\n",
    "    return spam_count, ham_count"
   ]
  },
  {
   "cell_type": "markdown",
   "id": "f6b1c666",
   "metadata": {},
   "source": [
    "##   <font color='red'>Q2.2</font>"
   ]
  },
  {
   "cell_type": "code",
   "execution_count": 4,
   "id": "14b73277",
   "metadata": {},
   "outputs": [],
   "source": [
    "def prediction2_2(x_array, y_array,test_x):\n",
    "    T_j_spam=  x_array[np.argwhere(y_array == 1).T[0]]\n",
    "    T_j_normal=  x_array[np.argwhere(y_array == 0).T[0]]\n",
    "    N_normal , N_spam= counter(y_array)\n",
    "    N = len(y_array)\n",
    "    Pi_normal= N_normal/N\n",
    "    Pi_spam=N_spam/N\n",
    "    small=1e-12\n",
    "    theta_j_spam=  T_j_spam.sum(axis=0) /(T_j_spam.sum())\n",
    "    theta_j_normal=  T_j_normal.sum(axis=0) /(T_j_normal.sum())\n",
    "    prob_spam= np.log(Pi_spam) + \\\n",
    "        (test_x * np.log(theta_j_spam+small)).sum(axis=1)\n",
    "    prob_normal=np.log(Pi_normal) + \\\n",
    "        (test_x * np.log(theta_j_normal+small)).sum(axis=1)\n",
    "    return (prob_spam>prob_normal)*1"
   ]
  },
  {
   "cell_type": "markdown",
   "id": "b7d207d4",
   "metadata": {},
   "source": [
    "##   <font color='red'>Q2.3</font>"
   ]
  },
  {
   "cell_type": "code",
   "execution_count": 5,
   "id": "3b75e2fa",
   "metadata": {},
   "outputs": [],
   "source": [
    "def prediction2_3(x_array, y_array,test_x,alpha):\n",
    "    T_j_spam=  x_array[np.argwhere(y_array == 1).T[0]]\n",
    "    T_j_normal=  x_array[np.argwhere(y_array == 0).T[0]]\n",
    "    N_normal , N_spam= counter(y_array)\n",
    "    N = len(y_array)\n",
    "    Pi_normal= N_normal/N\n",
    "    Pi_spam=N_spam/N\n",
    "    theta_j_spam=  (T_j_spam.sum(axis=0)+ alpha) / \\\n",
    "    (T_j_spam.sum() +alpha *len(x_array.T))\n",
    "    theta_j_normal=  (T_j_normal.sum(axis=0) + alpha) / \\\n",
    "    (T_j_normal.sum() + alpha *len(x_array.T) )\n",
    "    prob_spam= np.log(Pi_spam) + (test_x * np.log(theta_j_spam)).sum(axis=1)\n",
    "    prob_normal=np.log(Pi_normal) + (test_x * np.log(theta_j_normal)).sum(axis=1)\n",
    "    return (prob_spam>prob_normal)*1"
   ]
  },
  {
   "cell_type": "markdown",
   "id": "f6f7c287",
   "metadata": {},
   "source": [
    "##   <font color='red'>Q2.3</font>"
   ]
  },
  {
   "cell_type": "code",
   "execution_count": 6,
   "id": "7a707d4f",
   "metadata": {},
   "outputs": [],
   "source": [
    "def bernoulli_prediction(train_x, train_y,test_x):\n",
    "    normal_matrix=((train_x!=0)*1)[np.argwhere(train_y == 0).T[0]]\n",
    "    spam_matrix=((train_x!=0)*1)[np.argwhere(train_y == 1).T[0]]\n",
    "    S_j_spam=spam_matrix.sum(axis=0)\n",
    "    S_j_normal=normal_matrix.sum(axis=0)\n",
    "    N_normal , N_spam= counter(train_y)\n",
    "    N = len(train_y)\n",
    "    Pi_normal= N_normal/N\n",
    "    Pi_spam=N_spam/N\n",
    "    theta_j_spam_=  S_j_spam   / len(spam_matrix)  \n",
    "    theta_j_normal_=  S_j_normal/ len(normal_matrix)  \n",
    "    test_matrix=(test_x != 0)*1\n",
    "    small=1e-12\n",
    "    prob_spam= np.log(Pi_spam) + np.log( test_matrix * theta_j_spam_ \\\n",
    "                    + (1-test_matrix)* (1- theta_j_spam_)+small).sum(axis=1)\n",
    "    prob_normal= np.log(Pi_normal) + np.log( test_matrix * theta_j_normal_ \\\n",
    "                    + (1-test_matrix)* (1- theta_j_normal_)  +small).sum(axis=1)\n",
    "    \n",
    "    return 1*(prob_spam>prob_normal)"
   ]
  },
  {
   "cell_type": "code",
   "execution_count": 7,
   "id": "501851f3",
   "metadata": {},
   "outputs": [],
   "source": [
    "def confusion(test_y,result,ax,title=\"Result\"):\n",
    "    correct=len(np.argwhere(test_y==result))\n",
    "    accuracy= 100*correct/len(test_y)\n",
    "    confusion = pd.crosstab(test_y, result)\n",
    "    ax.matshow(confusion,cmap='OrRd')\n",
    "    ax.set(xlabel='Test', ylabel='Prediction')\n",
    "    for i in range(2):\n",
    "        for j in range(2):\n",
    "            c = confusion[j][i]\n",
    "            ax.text(i, j, str(c), va='center', ha='center')\n",
    "    ax.set_title(title)\n",
    "    print(\"Accuracy for {} is: {:.3f} %\".format(title,accuracy))"
   ]
  },
  {
   "cell_type": "code",
   "execution_count": 8,
   "id": "498cf357",
   "metadata": {},
   "outputs": [],
   "source": [
    "def result(a):\n",
    "    train_x=pd.read_csv(\"x_train.csv\").to_numpy()\n",
    "    train_y=pd.read_csv(\"y_train.csv\").to_numpy()\n",
    "    test_x=pd.read_csv(\"x_test.csv\").to_numpy()\n",
    "    test_y=pd.read_csv(\"y_test.csv\").to_numpy().T[0]\n",
    "    fig, ax = plt.subplots()\n",
    "    if a==1:\n",
    "        result=prediction2_2(train_x,train_y,test_x)\n",
    "    elif a==2:\n",
    "        result=prediction2_3(train_x,train_y,test_x,5)\n",
    "    elif a==3:\n",
    "        result=prediction2_3(train_x,train_y,test_x,1e-10)\n",
    "    else:\n",
    "        result=bernoulli_prediction(train_x, train_y,test_x)\n",
    "    confusion(test_y,result,ax)\n",
    "    plt.show()"
   ]
  },
  {
   "cell_type": "code",
   "execution_count": 11,
   "id": "80208e4b",
   "metadata": {},
   "outputs": [],
   "source": [
    "def main():\n",
    "    train_x=pd.read_csv(\"x_train.csv\").to_numpy()\n",
    "    train_y=pd.read_csv(\"y_train.csv\").to_numpy()\n",
    "    test_x=pd.read_csv(\"x_test.csv\").to_numpy()\n",
    "    test_y=pd.read_csv(\"y_test.csv\").to_numpy().T[0]\n",
    "    spam_count,ham_count= counter(train_y)\n",
    "    spam_percentage= 100 * spam_count/(spam_count+ham_count)\n",
    "    print(\"The percentage of spam e-mails in \\\n",
    "the y_train.csv is: {:.3f} %\".format(spam_percentage))\n",
    "    data=np.c_[train_x,train_y]\n",
    "    np.random.shuffle(data)\n",
    "    train_x=data[:,:-1]\n",
    "    train_y=data[:,-1]\n",
    "    r1=prediction2_2(train_x,train_y,test_x)\n",
    "    r2=prediction2_3(train_x,train_y,test_x,5)\n",
    "    r3=prediction2_3(train_x,train_y,test_x,1e-10)\n",
    "    r4=bernoulli_prediction(train_x, train_y,test_x)\n",
    "    plt.rcParams[\"figure.figsize\"] = [12,8]\n",
    "    plt.rcParams[\"figure.autolayout\"] = True\n",
    "    fig, ax = plt.subplots(2,2)\n",
    "    plt.title(\"Confusion Matrices\")\n",
    "    confusion(test_y,r1,ax[0,0],\"Multinomial Naive Bayes Model\")\n",
    "    confusion(test_y,r2,ax[0,1],\"Multinomial Naive Bayes Model \\\n",
    "with Drichlet Prior 5\")\n",
    "    confusion(test_y,r3,ax[1,0],\"Multinomial Naive Bayes Model \\\n",
    "with Drichlet Prior 10^(-10)\")\n",
    "    confusion(test_y,r4,ax[1,1],\"Bernoulli Naive Bayes Model\")\n",
    "    plt.show()"
   ]
  },
  {
   "cell_type": "code",
   "execution_count": 12,
   "id": "730b0c57",
   "metadata": {},
   "outputs": [
    {
     "name": "stdout",
     "output_type": "stream",
     "text": [
      "The percentage of spam e-mails in the y_train.csv is: 28.596 %\n",
      "Accuracy for Multinomial Naive Bayes Model is: 96.135 %\n",
      "Accuracy for Multinomial Naive Bayes Model with Drichlet Prior 5 is: 94.976 %\n",
      "Accuracy for Multinomial Naive Bayes Model with Drichlet Prior 10^(-10) is: 96.232 %\n",
      "Accuracy for Bernoulli Naive Bayes Model is: 91.884 %\n"
     ]
    },
    {
     "data": {
      "image/png": "[encoded data removed]",
      "text/plain": [
       "<Figure size 864x576 with 4 Axes>"
      ]
     },
     "metadata": {
      "needs_background": "light"
     },
     "output_type": "display_data"
    }
   ],
   "source": [
    "if __name__ == '__main__':\n",
    "    main()"
   ]
  },
  {
   "cell_type": "code",
   "execution_count": null,
   "id": "c230a829",
   "metadata": {},
   "outputs": [],
   "source": []
  }
 ],
 "metadata": {
  "kernelspec": {
   "display_name": "Python 3",
   "language": "python",
   "name": "python3"
  },
  "language_info": {
   "codemirror_mode": {
    "name": "ipython",
    "version": 3
   },
   "file_extension": ".py",
   "mimetype": "text/x-python",
   "name": "python",
   "nbconvert_exporter": "python",
   "pygments_lexer": "ipython3",
   "version": "3.8.8"
  }
 },
 "nbformat": 4,
 "nbformat_minor": 5
}
